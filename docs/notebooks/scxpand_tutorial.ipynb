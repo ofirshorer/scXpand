{
 "cells": [
  {
   "cell_type": "markdown",
   "metadata": {},
   "source": [
    "  # scXpand Tutorial: Data Preparation and Model Application\n",
    "\n",
    "\n",
    "\n",
    "\n",
    "\n",
    "\n",
    "\n",
    "  This tutorial demonstrates how to prepare scRNA-seq data and apply scXpand models for T cell expansion prediction.\n",
    "\n",
    "\n",
    "\n",
    "\n",
    "\n",
    "\n",
    "\n",
    "  ## Example Dataset\n",
    "\n",
    "\n",
    "\n",
    "\n",
    "\n",
    "\n",
    "\n",
    "  We use a publicly available scRNA-seq dataset of breast cancer patients from:\n",
    "\n",
    "\n",
    "\n",
    "  - **Study**: Tietscher et al. 2023 (E-MTAB-10607)\n",
    "\n",
    "\n",
    "\n",
    "  - **Source**: https://www.ebi.ac.uk/biostudies/arrayexpress/studies/E-MTAB-10607/\n",
    "\n",
    "\n",
    "\n",
    "  - **Data type**: scRNA-seq only (no paired scTCR-seq)\n",
    "\n",
    "\n",
    "\n",
    "  - **Cancer type**: Breast cancer\n",
    "\n",
    "\n",
    "\n",
    "  - **Tissue**: Tumor samples\n",
    "\n",
    "\n",
    "\n",
    "\n",
    "\n",
    "\n",
    "\n",
    "  ## Tutorial Structure\n",
    "\n",
    "\n",
    "\n",
    "\n",
    "\n",
    "\n",
    "\n",
    "  - **Data Loading and Initial Processing**\n",
    "\n",
    "\n",
    "\n",
    "  - **Quality Control and Filtering**\n",
    "\n",
    "\n",
    "\n",
    "  - **Data Preparation for scXpand**\n",
    "\n",
    "\n",
    "\n",
    "  - **Model Application and Inference**\n",
    "\n",
    "\n",
    "\n",
    "  - **Robustness Testing**"
   ]
  },
  {
   "cell_type": "markdown",
   "metadata": {},
   "source": [
    "  ---\n",
    "\n",
    "\n",
    "\n",
    "  ## Data Loading and Initial Processing"
   ]
  },
  {
   "cell_type": "code",
   "execution_count": 1,
   "metadata": {},
   "outputs": [
    {
     "name": "stdout",
     "output_type": "stream",
     "text": [
      "Project root: /Users/rona/my_repos/scXpand\n"
     ]
    }
   ],
   "source": [
    "import sys\n",
    "\n",
    "from pathlib import Path\n",
    "\n",
    "import anndata as ad\n",
    "import matplotlib.pyplot as plt\n",
    "import numpy as np\n",
    "import pandas as pd\n",
    "import scanpy as sc\n",
    "import seaborn as sns\n",
    "\n",
    "from scipy import sparse\n",
    "\n",
    "# Set matplotlib backend for Jupyter notebooks\n",
    "%matplotlib inline\n",
    "\n",
    "# Plotting settings\n",
    "plt.rcParams[\"font.sans-serif\"] = [\"Arial\"]\n",
    "plt.rcParams[\"axes.axisbelow\"] = True\n",
    "\n",
    "# Setup project paths\n",
    "project_root = Path.cwd().parent\n",
    "print(f\"Project root: {project_root}\")\n",
    "sys.path.insert(0, str(project_root))"
   ]
  },
  {
   "cell_type": "markdown",
   "metadata": {},
   "source": [
    "  ### Discover and Validate Data Files"
   ]
  },
  {
   "cell_type": "code",
   "execution_count": 2,
   "metadata": {},
   "outputs": [
    {
     "name": "stdout",
     "output_type": "stream",
     "text": [
      "Found 14 samples to process\n"
     ]
    }
   ],
   "source": [
    "# Setup data paths\n",
    "demo_path = project_root / \"data\" / \"demo\"\n",
    "source_path = demo_path / \"E-MTAB-10607_BC\"\n",
    "# Please make sure to download the data from https://www.ebi.ac.uk/biostudies/arrayexpress/studies/E-MTAB-10607/ and place it in the source_path directory\n",
    "\n",
    "# Collect matrix and metadata files\n",
    "mtx_files = sorted(source_path.glob(\"*_matrix.txt\"))\n",
    "metadata_files = sorted(source_path.glob(\"*_metadata.txt\"))\n",
    "\n",
    "# Extract sample IDs from matrix file prefixes\n",
    "sample_ids = [file.stem.split(\"_\")[0] for file in mtx_files]\n",
    "\n",
    "# Validate file consistency: sample_ids should match the metadata_files and mtx_files file names\n",
    "assert len(sample_ids) == len(metadata_files) == len(mtx_files), \"Mismatch in file counts\"\n",
    "assert all(sample_id in metadata_files[i].stem for i, sample_id in enumerate(sample_ids))\n",
    "assert all(sample_id in mtx_files[i].stem for i, sample_id in enumerate(sample_ids))\n",
    "\n",
    "n_samples = len(mtx_files)\n",
    "print(f\"Found {n_samples} samples to process\")"
   ]
  },
  {
   "cell_type": "markdown",
   "metadata": {},
   "source": [
    "  ### Load and Concatenate Sample Data"
   ]
  },
  {
   "cell_type": "code",
   "execution_count": 3,
   "metadata": {},
   "outputs": [
    {
     "name": "stdout",
     "output_type": "stream",
     "text": [
      "Loading all samples...\n",
      "Loading sample 1 of 14: TBB011\n",
      "Loading sample 2 of 14: TBB035\n",
      "Loading sample 3 of 14: TBB075\n",
      "Loading sample 4 of 14: TBB102\n",
      "Loading sample 5 of 14: TBB111\n",
      "Loading sample 6 of 14: TBB129\n",
      "Loading sample 7 of 14: TBB165\n",
      "Loading sample 8 of 14: TBB171\n",
      "Loading sample 9 of 14: TBB184\n",
      "Loading sample 10 of 14: TBB212\n",
      "Loading sample 11 of 14: TBB214\n",
      "Loading sample 12 of 14: TBB226\n",
      "Loading sample 13 of 14: TBB330\n",
      "Loading sample 14 of 14: TBB338\n"
     ]
    }
   ],
   "source": [
    "def load_sample_data(sample_id: str, mtx_file: Path, metadata_file: Path) -> ad.AnnData:\n",
    "    \"\"\"Load and process a single sample's data.\"\"\"\n",
    "\n",
    "    # Load expression matrix as AnnData and transpose\n",
    "    sample_data = sc.read_text(mtx_file).transpose()\n",
    "\n",
    "    # Create clean cell names (concatenate sample_id with cell_id)\n",
    "    sample_data.obs_names = sample_id + \"_\" + sample_data.obs_names.to_series().str.split(\".\").str[0]\n",
    "\n",
    "    # Convert to sparse matrix for memory efficiency\n",
    "    sample_data.X = sparse.csr_matrix(sample_data.X)\n",
    "\n",
    "    # Load and merge metadata\n",
    "    metadata = pd.read_csv(metadata_file, sep=\"\\t\", index_col=0)\n",
    "    for col in metadata.columns:\n",
    "        sample_data.obs[col] = metadata[col]\n",
    "\n",
    "    return sample_data\n",
    "\n",
    "\n",
    "# Load samples with progress tracking\n",
    "print(\"Loading all samples...\")\n",
    "adata_list = []\n",
    "for sample_idx in range(n_samples):\n",
    "    print(f\"Loading sample {sample_idx + 1} of {n_samples}: {sample_ids[sample_idx]}\")\n",
    "    sample_adata = load_sample_data(\n",
    "        sample_id=sample_ids[sample_idx],\n",
    "        mtx_file=mtx_files[sample_idx],\n",
    "        metadata_file=metadata_files[sample_idx],\n",
    "    )\n",
    "    adata_list.append(sample_adata)\n",
    "\n",
    "# Concatenate all samples\n",
    "adata = ad.concat(adata_list)\n",
    "del adata_list  # Free memory"
   ]
  },
  {
   "cell_type": "code",
   "execution_count": 4,
   "metadata": {},
   "outputs": [
    {
     "name": "stdout",
     "output_type": "stream",
     "text": [
      "Combined dataset shape: (159498, 21959)\n",
      "Data type: <class 'scipy.sparse._csr.csr_matrix'>\n"
     ]
    }
   ],
   "source": [
    "print(f\"Combined dataset shape: {adata.shape}\")\n",
    "print(f\"Data type: {type(adata.X)}\")"
   ]
  },
  {
   "cell_type": "markdown",
   "metadata": {},
   "source": [
    "  ---\n",
    "\n",
    "\n",
    "\n",
    "  ## Quality Control and Filtering"
   ]
  },
  {
   "cell_type": "markdown",
   "metadata": {},
   "source": [
    "  ### Mitochondrial Gene Analysis"
   ]
  },
  {
   "cell_type": "code",
   "execution_count": 5,
   "metadata": {},
   "outputs": [
    {
     "name": "stdout",
     "output_type": "stream",
     "text": [
      "Found 37 mitochondrial genes in dataset:\n",
      "['MT-TF', 'MT-RNR1', 'MT-TV', 'MT-RNR2', 'MT-TL1', 'MT-ND1', 'MT-TI', 'MT-TQ', 'MT-TM', 'MT-ND2', 'MT-TW', 'MT-TA', 'MT-TN', 'MT-TC', 'MT-TY', 'MT-CO1', 'MT-TS1', 'MT-TD', 'MT-CO2', 'MT-TK', 'MT-ATP8', 'MT-ATP6', 'MT-CO3', 'MT-TG', 'MT-ND3', 'MT-TR', 'MT-ND4L', 'MT-ND4', 'MT-TH', 'MT-TS2', 'MT-TL2', 'MT-ND5', 'MT-ND6', 'MT-TE', 'MT-CYB', 'MT-TT', 'MT-TP']\n"
     ]
    }
   ],
   "source": [
    "# Display all mitochondrial genes in dataset (37 genes total)\n",
    "mt_genes_in_data = adata.var[adata.var_names.str.startswith(\"MT-\")].index\n",
    "print(f\"Found {len(mt_genes_in_data)} mitochondrial genes in dataset:\")\n",
    "print(mt_genes_in_data.tolist())"
   ]
  },
  {
   "cell_type": "code",
   "execution_count": 6,
   "metadata": {},
   "outputs": [
    {
     "name": "stdout",
     "output_type": "stream",
     "text": [
      "Using 13 protein-coding MT genes for QC\n"
     ]
    }
   ],
   "source": [
    "# We will use only the 13 protein-coding mitochondrial genes for QC\n",
    "# (to be consistent with other datasets having just these genes)\n",
    "mt_genes = [\n",
    "    \"MT-ND1\",\n",
    "    \"MT-ND2\",\n",
    "    \"MT-CO1\",\n",
    "    \"MT-CO2\",\n",
    "    \"MT-ATP8\",\n",
    "    \"MT-ATP6\",\n",
    "    \"MT-CO3\",\n",
    "    \"MT-ND3\",\n",
    "    \"MT-ND4L\",\n",
    "    \"MT-ND4\",\n",
    "    \"MT-ND5\",\n",
    "    \"MT-ND6\",\n",
    "    \"MT-CYB\",\n",
    "]\n",
    "\n",
    "# Mark protein-coding mitochondrial genes for QC\n",
    "adata.var[\"mt\"] = adata.var_names.isin(mt_genes)\n",
    "print(f\"Using {adata.var['mt'].sum()} protein-coding MT genes for QC\")\n",
    "\n",
    "# Calculate QC metrics for each cell\n",
    "sc.pp.calculate_qc_metrics(adata, qc_vars=[\"mt\"], inplace=True)"
   ]
  },
  {
   "cell_type": "markdown",
   "metadata": {},
   "source": [
    "  ### Quality Control Visualization and Filtering"
   ]
  },
  {
   "cell_type": "code",
   "execution_count": 7,
   "metadata": {},
   "outputs": [
    {
     "data": {
      "image/png": "[encoded data removed]",
      "text/plain": [
       "<Figure size 804.6x480 with 1 Axes>"
      ]
     },
     "metadata": {},
     "output_type": "display_data"
    }
   ],
   "source": [
    "# Visualize mitochondrial gene percentage distribution\n",
    "ax = sc.pl.violin(adata, \"pct_counts_mt\", jitter=0.1, show=False)\n",
    "ax.set_title(\"Mitochondrial gene percentage distribution\")\n",
    "plt.show()"
   ]
  },
  {
   "cell_type": "code",
   "execution_count": 8,
   "metadata": {},
   "outputs": [
    {
     "name": "stdout",
     "output_type": "stream",
     "text": [
      "Before filtering: 159498 cells, 21959 genes\n"
     ]
    },
    {
     "name": "stderr",
     "output_type": "stream",
     "text": [
      "/Users/rona/my_repos/scXpand/.venv/lib/python3.13/site-packages/scanpy/preprocessing/_simple.py:176: ImplicitModificationWarning: Trying to modify attribute `.obs` of view, initializing view as actual.\n",
      "  adata.obs[\"n_genes\"] = number\n"
     ]
    },
    {
     "name": "stdout",
     "output_type": "stream",
     "text": [
      "After filtering: 119704 cells, 19754 genes\n",
      "Final data shape: (119704, 19754)\n"
     ]
    }
   ],
   "source": [
    "# Apply quality control filters\n",
    "print(f\"Before filtering: {adata.n_obs} cells, {adata.n_vars} genes\")\n",
    "\n",
    "# Filter cells with high mitochondrial content (< 10%)\n",
    "adata = adata[adata.obs.pct_counts_mt < 10, :]\n",
    "\n",
    "# Filter low-quality cells and genes\n",
    "sc.pp.filter_cells(adata, min_genes=200)  # Remove cells with < 200 genes\n",
    "sc.pp.filter_genes(adata, min_cells=3)  # Remove genes in < 3 cells\n",
    "\n",
    "print(f\"After filtering: {adata.n_obs} cells, {adata.n_vars} genes\")\n",
    "print(f\"Final data shape: {adata.shape}\")"
   ]
  },
  {
   "cell_type": "markdown",
   "metadata": {},
   "source": [
    "  ### Doublet Detection\n",
    "  - Simulates doublets by combining random cell pairs\n",
    "  - Computes doublet scores for all cells\n",
    "  - Provides automatic threshold detection\n",
    "  - Processes samples separately to account for batch effects\n"
   ]
  },
  {
   "cell_type": "code",
   "execution_count": 9,
   "metadata": {},
   "outputs": [],
   "source": [
    "# Run Scrublet doublet detection\n",
    "sc.pp.scrublet(\n",
    "    adata,\n",
    "    expected_doublet_rate=0.05,  # Expected doublet rate for the dataset\n",
    "    batch_key=\"sample\",  # Process each sample separately\n",
    "    random_state=42,  # For reproducibility\n",
    ")\n",
    "\n",
    "#   Original code used in our dataset generation (replaced with scanpy's implementation out due to compatibility issues):\n",
    "#  import scrublet as scr\n",
    "#  scrub = scr.Scrublet(adata.X, expected_doublet_rate=0.05)\n",
    "#  adata.obs[\"doublet_scores\"], adata.obs[\"predicted_doublets\"] = scrub.scrub_doublets()"
   ]
  },
  {
   "cell_type": "code",
   "execution_count": 10,
   "metadata": {},
   "outputs": [],
   "source": [
    "# Plot histogram of doublet scores (optional)\n",
    "# sc.pl.scrublet_score_distribution(adata)"
   ]
  },
  {
   "cell_type": "code",
   "execution_count": 11,
   "metadata": {},
   "outputs": [
    {
     "name": "stdout",
     "output_type": "stream",
     "text": [
      "Filtered out cells with doublet scores >= 0.3\n",
      "Remaining cells after doublet filtering: 118631\n"
     ]
    }
   ],
   "source": [
    "# Filter out cells with high doublet score using a conservative threshold\n",
    "doublet_threshold = 0.3\n",
    "adata = adata[\n",
    "    adata.obs[\"doublet_score\"] < doublet_threshold\n",
    "]  # Note: column name is \"doublet_score\" not \"doublet_scores\"\n",
    "print(f\"Filtered out cells with doublet scores >= {doublet_threshold}\")\n",
    "print(f\"Remaining cells after doublet filtering: {adata.n_obs}\")"
   ]
  },
  {
   "cell_type": "code",
   "execution_count": 12,
   "metadata": {},
   "outputs": [
    {
     "name": "stdout",
     "output_type": "stream",
     "text": [
      "Predicted doublet status:\n",
      "predicted_doublet\n",
      "False    118517\n",
      "True        114\n",
      "Name: count, dtype: int64\n",
      "Max doublet score after filtering: 0.299\n",
      "Remaining cells after removing predicted doublets: 118517\n"
     ]
    }
   ],
   "source": [
    "# Verify doublet filtering results\n",
    "print(\"Predicted doublet status:\")\n",
    "print(adata.obs[\"predicted_doublet\"].value_counts())\n",
    "print(f\"Max doublet score after filtering: {adata.obs['doublet_score'].max():.3f}\")\n",
    "\n",
    "# filter remaining doublets based on predicted_doublet column:\n",
    "adata = adata[~adata.obs[\"predicted_doublet\"], :]\n",
    "print(f\"Remaining cells after removing predicted doublets: {adata.n_obs}\")"
   ]
  },
  {
   "cell_type": "code",
   "execution_count": 13,
   "metadata": {},
   "outputs": [
    {
     "name": "stderr",
     "output_type": "stream",
     "text": [
      "/var/folders/kc/qpbjrjdx2zs_tg13rp6kmnk00000gn/T/ipykernel_27564/3004074460.py:2: ImplicitModificationWarning: Setting element `.layers['counts']` of view, initializing view as actual.\n",
      "  adata.layers[\"counts\"] = adata.X.copy()\n"
     ]
    }
   ],
   "source": [
    "# save raw count matrix:\n",
    "adata.layers[\"counts\"] = adata.X.copy()"
   ]
  },
  {
   "cell_type": "code",
   "execution_count": 14,
   "metadata": {},
   "outputs": [],
   "source": [
    "# add some metadata information for our records:\n",
    "adata.obs[\"cancer_type\"] = \"BC\"\n",
    "adata.obs[\"study\"] = \"Tietscher et al. 2023 (BC)\"\n",
    "adata.obs[\"tissue_type\"] = \"Tumor\"\n",
    "\n",
    "# apply this because of file-writing error in this specific dataset:\n",
    "adata.obs[\"excl_doublet\"] = adata.obs[\"excl_doublet\"].astype(str)\n",
    "adata.obs[\"excl_QC\"] = adata.obs[\"excl_QC\"].astype(str)"
   ]
  },
  {
   "cell_type": "markdown",
   "metadata": {},
   "source": [
    "  ---\n",
    "\n",
    "\n",
    "\n",
    "  ## Data Preparation for scXpand"
   ]
  },
  {
   "cell_type": "markdown",
   "metadata": {},
   "source": [
    "  ### T Cell Filtering\n",
    "\n",
    "\n",
    "\n",
    "\n",
    "\n",
    "\n",
    "\n",
    "  The scXpand model is specifically designed for T cells. We need to filter our dataset\n",
    "\n",
    "\n",
    "\n",
    "  to include only T cells before applying the model.\n",
    "\n",
    "\n",
    "\n",
    "\n",
    "\n",
    "\n",
    "\n",
    "  **Note:** This step can be done using:\n",
    "\n",
    "\n",
    "\n",
    "  - Your own clustering solution\n",
    "\n",
    "\n",
    "\n",
    "  - Cell type annotation tools\n",
    "\n",
    "\n",
    "\n",
    "  - Imputation methods (e.g., MAGIC)\n",
    "\n",
    "\n",
    "\n",
    "  - Pre-existing cell annotations (as in this example)"
   ]
  },
  {
   "cell_type": "code",
   "execution_count": 15,
   "metadata": {},
   "outputs": [
    {
     "name": "stdout",
     "output_type": "stream",
     "text": [
      "Before T cell filtering: 118517 cells\n",
      "After T cell filtering: 26596 cells remaining\n"
     ]
    }
   ],
   "source": [
    "# Filter for T cells only (removing NK cells) according to cell metadata from authors\n",
    "# The model input will include only T cells (we kept NKT cells as well)\n",
    "print(f\"Before T cell filtering: {adata.n_obs} cells\")\n",
    "\n",
    "t_cell_mask = (~adata.obs[\"Tcell_metacluster\"].replace(\"none\", np.nan).isna()) & (\n",
    "    ~adata.obs[\"Tcell_metacluster\"].isin([\"NK\", \"NK_activated\"])\n",
    ")\n",
    "adata = adata[t_cell_mask]\n",
    "print(f\"After T cell filtering: {adata.n_obs} cells remaining\")"
   ]
  },
  {
   "cell_type": "markdown",
   "metadata": {},
   "source": [
    "  ### Gene ID Conversion\n",
    "\n",
    "\n",
    "\n",
    "\n",
    "\n",
    "\n",
    "\n",
    "  **Important:** The scXpand model requires Ensembl gene IDs as gene identifiers.\n",
    "\n",
    "\n",
    "\n",
    "\n",
    "\n",
    "\n",
    "\n",
    "  - **If your data already has Ensembl IDs:** Simply set them as `var_names` and the model will handle missing genes automatically\n",
    "\n",
    "\n",
    "\n",
    "  - **If your data uses gene symbols:** Follow the conversion process below"
   ]
  },
  {
   "cell_type": "code",
   "execution_count": 16,
   "metadata": {},
   "outputs": [
    {
     "name": "stdout",
     "output_type": "stream",
     "text": [
      "Loaded gene table with 11950 genes\n",
      "Gene table columns: ['gene_ids', 'feature_types']\n"
     ]
    }
   ],
   "source": [
    "# Load the gene list we want to keep (authors provided genes without ensembl_ids)\n",
    "# This file can be found in our Figshare publicly available repository: https://doi.org/10.6084/m9.figshare.30067666\n",
    "gene_table_path = demo_path / \"gene_table_for_scXpand.csv.gz\"\n",
    "gene_table = pd.read_csv(gene_table_path, index_col=1)\n",
    "print(f\"Loaded gene table with {len(gene_table)} genes\")\n",
    "print(\"Gene table columns:\", gene_table.columns.tolist())"
   ]
  },
  {
   "cell_type": "code",
   "execution_count": 17,
   "metadata": {},
   "outputs": [
    {
     "name": "stdout",
     "output_type": "stream",
     "text": [
      "Gene table after filtering: 11950 genes\n",
      "All genes present in dataset: False\n"
     ]
    }
   ],
   "source": [
    "# Filter gene table to include only genes present in the dataset\n",
    "# Note: If genes were missing, the model would handle this by setting expression to zero\n",
    "gene_table = gene_table[gene_table.index.to_series().isin(adata.var.index)]\n",
    "print(f\"Gene table after filtering: {len(gene_table)} genes\")\n",
    "print(f\"All genes present in dataset: {len(gene_table) == len(adata.var)}\")"
   ]
  },
  {
   "cell_type": "code",
   "execution_count": 18,
   "metadata": {},
   "outputs": [
    {
     "name": "stdout",
     "output_type": "stream",
     "text": [
      "Data after gene filtering: (26596, 11950)\n"
     ]
    },
    {
     "name": "stderr",
     "output_type": "stream",
     "text": [
      "/var/folders/kc/qpbjrjdx2zs_tg13rp6kmnk00000gn/T/ipykernel_27564/112391731.py:6: ImplicitModificationWarning: Trying to modify attribute `.var` of view, initializing view as actual.\n",
      "  adata.var[\"gene_ids\"] = gene_table[\"gene_ids\"]\n"
     ]
    }
   ],
   "source": [
    "# Subset adata to include only genes in the gene table\n",
    "adata = adata[:, gene_table.index]\n",
    "print(f\"Data after gene filtering: {adata.shape}\")\n",
    "\n",
    "# Add gene IDs and feature types to adata.var\n",
    "adata.var[\"gene_ids\"] = gene_table[\"gene_ids\"]\n",
    "adata.var[\"feature_types\"] = gene_table[\"feature_types\"]"
   ]
  },
  {
   "cell_type": "code",
   "execution_count": 19,
   "metadata": {},
   "outputs": [
    {
     "name": "stdout",
     "output_type": "stream",
     "text": [
      "Gene identifiers successfully converted to Ensembl IDs\n",
      "Example gene IDs: ['ENSG00000188976', 'ENSG00000187961', 'ENSG00000187583', 'ENSG00000188290', 'ENSG00000187608']\n"
     ]
    }
   ],
   "source": [
    "# Convert gene names to Ensembl IDs (required by scXpand model)\n",
    "# The model requires Ensembl IDs as var_names (index)\n",
    "adata.var = adata.var.rename_axis(\"gene_name\").reset_index().set_index(\"gene_ids\")\n",
    "\n",
    "print(\"Gene identifiers successfully converted to Ensembl IDs\")\n",
    "print(f\"Example gene IDs: {adata.var.index[:5].tolist()}\")"
   ]
  },
  {
   "cell_type": "markdown",
   "metadata": {},
   "source": [
    "  ### Save Processed Data (Optional)"
   ]
  },
  {
   "cell_type": "code",
   "execution_count": 20,
   "metadata": {},
   "outputs": [
    {
     "name": "stdout",
     "output_type": "stream",
     "text": [
      "Data preprocessing completed - ready for model application!\n"
     ]
    }
   ],
   "source": [
    "# Save the processed data for future use (optional)\n",
    "# output_path = project_root / \"data\" / \"processed\" / \"scXpand_count_data_T_cells_E-MTAB-10607.h5ad\"\n",
    "# adata.write(output_path, compression='gzip')\n",
    "# print(f\"Processed data saved to: {output_path}\")\n",
    "print(\"Data preprocessing completed - ready for model application!\")"
   ]
  },
  {
   "cell_type": "markdown",
   "metadata": {},
   "source": [
    "  ---\n",
    "\n",
    "\n",
    "\n",
    "## T  Cell Expansion Prediction with Pre-trained Models"
   ]
  },
  {
   "cell_type": "markdown",
   "metadata": {},
   "source": [
    "  ### Setup Model and Device"
   ]
  },
  {
   "cell_type": "code",
   "execution_count": 21,
   "metadata": {},
   "outputs": [
    {
     "name": "stdout",
     "output_type": "stream",
     "text": [
      "Using device: mps\n"
     ]
    }
   ],
   "source": [
    "from scxpand.util.general_util import get_device\n",
    "\n",
    "\n",
    "# Setup device and plotting style\n",
    "device = get_device()\n",
    "print(f\"Using device: {device}\")\n",
    "sns.set_style(\"whitegrid\")"
   ]
  },
  {
   "cell_type": "markdown",
   "metadata": {},
   "source": [
    "  ### Configure Model and Data"
   ]
  },
  {
   "cell_type": "code",
   "execution_count": 22,
   "metadata": {},
   "outputs": [
    {
     "name": "stdout",
     "output_type": "stream",
     "text": [
      "Selected model: pan_cancer_logistic\n",
      "Demo data: 26597 cells, 11950 genes\n",
      "Results will be saved to: /Users/rona/my_repos/scXpand/results/inference_results/pan_cancer_logistic_inference\n"
     ]
    }
   ],
   "source": [
    "# Model configuration\n",
    "model_name = \"pan_cancer_logistic\"  # Choose from available pretrained models\n",
    "\n",
    "# Data configuration - we'll use the processed data from the demo\n",
    "adata_path = demo_path / \"scXpand_count_data_T_cells_E-MTAB-10607.h5ad\"\n",
    "adata_demo = sc.read_h5ad(adata_path)  # Load preprocessed data\n",
    "\n",
    "# Inference parameters\n",
    "batch_size = 2048\n",
    "num_workers = 4\n",
    "save_path = project_root / \"results\" / \"inference_results\" / f\"{model_name}_inference\"\n",
    "\n",
    "print(f\"Selected model: {model_name}\")\n",
    "print(f\"Demo data: {adata_demo.n_obs} cells, {adata_demo.n_vars} genes\")\n",
    "print(f\"Results will be saved to: {save_path}\")\n",
    "\n",
    "# Create output directory\n",
    "save_path.mkdir(parents=True, exist_ok=True)"
   ]
  },
  {
   "cell_type": "markdown",
   "metadata": {},
   "source": [
    "  ### Run Inference"
   ]
  },
  {
   "cell_type": "code",
   "execution_count": 23,
   "metadata": {},
   "outputs": [
    {
     "name": "stdout",
     "output_type": "stream",
     "text": [
      "Running inference with pan_cancer_logistic model...\n",
      "\u001b[2m2025-09-13 18:44:42\u001b[0m [\u001b[32m\u001b[1minfo     \u001b[0m] \u001b[1mUsing registry model: pan_cancer_logistic\u001b[0m [\u001b[0m\u001b[1m\u001b[34mscxpand.core.inference\u001b[0m]\u001b[0m\n",
      "\u001b[2m2025-09-13 18:44:42\u001b[0m [\u001b[32m\u001b[1minfo     \u001b[0m] \u001b[1mUsing registry model: pan_cancer_logistic\u001b[0m [\u001b[0m\u001b[1m\u001b[34mscxpand.pretrained.inference_api\u001b[0m]\u001b[0m\n",
      "\u001b[2m2025-09-13 18:44:42\u001b[0m [\u001b[32m\u001b[1minfo     \u001b[0m] \u001b[1mModel version: 1.0.0          \u001b[0m [\u001b[0m\u001b[1m\u001b[34mscxpand.pretrained.inference_api\u001b[0m]\u001b[0m\n",
      "\u001b[2m2025-09-13 18:44:42\u001b[0m [\u001b[32m\u001b[1minfo     \u001b[0m] \u001b[1mModel type will be auto-detected from model_type.txt\u001b[0m [\u001b[0m\u001b[1m\u001b[34mscxpand.pretrained.inference_api\u001b[0m]\u001b[0m\n",
      "\u001b[2m2025-09-13 18:44:42\u001b[0m [\u001b[32m\u001b[1minfo     \u001b[0m] \u001b[1mUsing cache directory: /Users/rona/my_repos/scXpand/notebooks/.scxpand_cache\u001b[0m [\u001b[0m\u001b[1m\u001b[34mscxpand.pretrained.download_manager\u001b[0m]\u001b[0m\n",
      "\u001b[2m2025-09-13 18:44:42\u001b[0m [\u001b[32m\u001b[1minfo     \u001b[0m] \u001b[1mDownloading registry model 'pan_cancer_logistic' from: https://figshare.com/ndownloader/articles/30067666/versions/1?folder_path=logistic\u001b[0m [\u001b[0m\u001b[1m\u001b[34mscxpand.pretrained.download_manager\u001b[0m]\u001b[0m\n"
     ]
    },
    {
     "name": "stderr",
     "output_type": "stream",
     "text": [
      "Unzipping contents of '/Users/rona/my_repos/scXpand/notebooks/.scxpand_cache/5be9d6a5c323e8814ceae709733c7003-1' to '/Users/rona/my_repos/scXpand/notebooks/.scxpand_cache/5be9d6a5c323e8814ceae709733c7003-1.unzip'\n"
     ]
    },
    {
     "name": "stdout",
     "output_type": "stream",
     "text": [
      "\u001b[2m2025-09-13 18:44:42\u001b[0m [\u001b[32m\u001b[1minfo     \u001b[0m] \u001b[1mNormalizing filename: 57702358_model_type.txt -> model_type.txt\u001b[0m [\u001b[0m\u001b[1m\u001b[34mscxpand.pretrained.download_manager\u001b[0m]\u001b[0m\n",
      "\u001b[2m2025-09-13 18:44:42\u001b[0m [\u001b[32m\u001b[1minfo     \u001b[0m] \u001b[1mNormalizing filename: 57702361_parameters.json -> parameters.json\u001b[0m [\u001b[0m\u001b[1m\u001b[34mscxpand.pretrained.download_manager\u001b[0m]\u001b[0m\n",
      "\u001b[2m2025-09-13 18:44:42\u001b[0m [\u001b[32m\u001b[1minfo     \u001b[0m] \u001b[1mNormalizing filename: 57702349_data_format.json -> data_format.json\u001b[0m [\u001b[0m\u001b[1m\u001b[34mscxpand.pretrained.download_manager\u001b[0m]\u001b[0m\n",
      "\u001b[2m2025-09-13 18:44:42\u001b[0m [\u001b[32m\u001b[1minfo     \u001b[0m] \u001b[1mNormalizing filename: 57702352_data_format.npz -> data_format.npz\u001b[0m [\u001b[0m\u001b[1m\u001b[34mscxpand.pretrained.download_manager\u001b[0m]\u001b[0m\n",
      "\u001b[2m2025-09-13 18:44:42\u001b[0m [\u001b[32m\u001b[1minfo     \u001b[0m] \u001b[1mNormalizing filename: 57702355_model.joblib -> model.joblib\u001b[0m [\u001b[0m\u001b[1m\u001b[34mscxpand.pretrained.download_manager\u001b[0m]\u001b[0m\n",
      "\u001b[2m2025-09-13 18:44:42\u001b[0m [\u001b[32m\u001b[1minfo     \u001b[0m] \u001b[1mModel successfully downloaded and cached at: /Users/rona/my_repos/scXpand/notebooks/.scxpand_cache/5be9d6a5c323e8814ceae709733c7003-1.unzip/logistic\u001b[0m [\u001b[0m\u001b[1m\u001b[34mscxpand.pretrained.download_manager\u001b[0m]\u001b[0m\n",
      "\u001b[2m2025-09-13 18:44:42\u001b[0m [\u001b[32m\u001b[1minfo     \u001b[0m] \u001b[1mRunning inference with batch size: 2048\u001b[0m [\u001b[0m\u001b[1m\u001b[34mscxpand.pretrained.inference_api\u001b[0m]\u001b[0m\n",
      "\u001b[2m2025-09-13 18:44:42\u001b[0m [\u001b[32m\u001b[1minfo     \u001b[0m] \u001b[1mLoaded model type: logistic   \u001b[0m [\u001b[0m\u001b[1m\u001b[34mscxpand.util.model_type\u001b[0m]\u001b[0m\n",
      "\u001b[2m2025-09-13 18:44:42\u001b[0m [\u001b[32m\u001b[1minfo     \u001b[0m] \u001b[1mLoaded model type: logistic   \u001b[0m [\u001b[0m\u001b[1m\u001b[34mscxpand.core.prediction\u001b[0m]\u001b[0m\n",
      "\u001b[2m2025-09-13 18:44:42\u001b[0m [\u001b[32m\u001b[1minfo     \u001b[0m] \u001b[1mStarting prediction pipeline for logistic\u001b[0m [\u001b[0m\u001b[1m\u001b[34mscxpand.core.prediction\u001b[0m]\u001b[0m\n",
      "\u001b[2m2025-09-13 18:44:42\u001b[0m [\u001b[32m\u001b[1minfo     \u001b[0m] \u001b[1mModel path: /Users/rona/my_repos/scXpand/notebooks/.scxpand_cache/5be9d6a5c323e8814ceae709733c7003-1.unzip/logistic\u001b[0m [\u001b[0m\u001b[1m\u001b[34mscxpand.core.prediction\u001b[0m]\u001b[0m\n",
      "\u001b[2m2025-09-13 18:44:42\u001b[0m [\u001b[32m\u001b[1minfo     \u001b[0m] \u001b[1mSave path: /Users/rona/my_repos/scXpand/notebooks/.scxpand_cache/5be9d6a5c323e8814ceae709733c7003-1.unzip/logistic/predictions\u001b[0m [\u001b[0m\u001b[1m\u001b[34mscxpand.core.prediction\u001b[0m]\u001b[0m\n",
      "\u001b[2m2025-09-13 18:44:42\u001b[0m [\u001b[32m\u001b[1minfo     \u001b[0m] \u001b[1mLoading data format from /Users/rona/my_repos/scXpand/notebooks/.scxpand_cache/5be9d6a5c323e8814ceae709733c7003-1.unzip/logistic/data_format.json\u001b[0m [\u001b[0m\u001b[1m\u001b[34mscxpand.util.inference_utils\u001b[0m]\u001b[0m\n",
      "\u001b[2m2025-09-13 18:44:42\u001b[0m [\u001b[32m\u001b[1minfo     \u001b[0m] \u001b[1mLoading data format from: /Users/rona/my_repos/scXpand/notebooks/.scxpand_cache/5be9d6a5c323e8814ceae709733c7003-1.unzip/logistic/data_format.json\u001b[0m [\u001b[0m\u001b[1m\u001b[34mscxpand.data_util.data_format\u001b[0m]\u001b[0m\n",
      "\u001b[2m2025-09-13 18:44:42\u001b[0m [\u001b[32m\u001b[1minfo     \u001b[0m] \u001b[1mLoaded normalization statistics: mu array (11950,), sigma array (11950,)\u001b[0m [\u001b[0m\u001b[1m\u001b[34mscxpand.data_util.data_format\u001b[0m]\u001b[0m\n",
      "\u001b[2m2025-09-13 18:44:42\u001b[0m [\u001b[32m\u001b[1minfo     \u001b[0m] \u001b[1mLoading logistic model from /Users/rona/my_repos/scXpand/notebooks/.scxpand_cache/5be9d6a5c323e8814ceae709733c7003-1.unzip/logistic\u001b[0m [\u001b[0m\u001b[1m\u001b[34mscxpand.util.inference_utils\u001b[0m]\u001b[0m\n",
      "\u001b[2m2025-09-13 18:44:42\u001b[0m [\u001b[32m\u001b[1minfo     \u001b[0m] \u001b[1mLoading scikit-learn model from: /Users/rona/my_repos/scXpand/notebooks/.scxpand_cache/5be9d6a5c323e8814ceae709733c7003-1.unzip/logistic\u001b[0m [\u001b[0m\u001b[1m\u001b[34mscxpand.linear.sklearn_utils\u001b[0m]\u001b[0m\n",
      "\u001b[2m2025-09-13 18:44:42\u001b[0m [\u001b[32m\u001b[1minfo     \u001b[0m] \u001b[1mScikit-learn model loaded successfully.\u001b[0m [\u001b[0m\u001b[1m\u001b[34mscxpand.linear.sklearn_utils\u001b[0m]\u001b[0m\n",
      "\u001b[2m2025-09-13 18:44:42\u001b[0m [\u001b[32m\u001b[1minfo     \u001b[0m] \u001b[1mInference environment ready: logistic model on mps\u001b[0m [\u001b[0m\u001b[1m\u001b[34mscxpand.util.inference_utils\u001b[0m]\u001b[0m\n",
      "\u001b[2m2025-09-13 18:44:42\u001b[0m [\u001b[32m\u001b[1minfo     \u001b[0m] \u001b[1mRunning model inference...    \u001b[0m [\u001b[0m\u001b[1m\u001b[34mscxpand.core.prediction\u001b[0m]\u001b[0m\n",
      "\u001b[2m2025-09-13 18:44:42\u001b[0m [\u001b[32m\u001b[1minfo     \u001b[0m] \u001b[1mRunning logistic inference    \u001b[0m [\u001b[0m\u001b[1m\u001b[34mscxpand.util.inference_utils\u001b[0m]\u001b[0m\n",
      "\u001b[2m2025-09-13 18:44:42\u001b[0m [\u001b[32m\u001b[1minfo     \u001b[0m] \u001b[1mCreated eval data loader with batch size: 2048, num_workers: 4\u001b[0m [\u001b[0m\u001b[1m\u001b[34mscxpand.data_util.dataloaders\u001b[0m]\u001b[0m\n"
     ]
    },
    {
     "name": "stderr",
     "output_type": "stream",
     "text": [
      "/Users/rona/my_repos/scXpand/.venv/lib/python3.13/site-packages/sklearn/base.py:442: InconsistentVersionWarning: Trying to unpickle estimator SGDClassifier from version 1.7.1 when using version 1.7.2. This might lead to breaking code or invalid results. Use at your own risk. For more info please refer to:\n",
      "https://scikit-learn.org/stable/model_persistence.html#security-maintainability-limitations\n",
      "  warnings.warn(\n"
     ]
    },
    {
     "name": "stdout",
     "output_type": "stream",
     "text": [
      "\u001b[2m2025-09-13 18:44:52\u001b[0m [\u001b[32m\u001b[1minfo     \u001b[0m] \u001b[1mInference complete. Predictions shape: (26597,)\u001b[0m [\u001b[0m\u001b[1m\u001b[34mscxpand.linear.sklearn_utils\u001b[0m]\u001b[0m\n",
      "\u001b[2m2025-09-13 18:44:53\u001b[0m [\u001b[32m\u001b[1minfo     \u001b[0m] \u001b[1mInference completed. Generated 26597 predictions.\u001b[0m [\u001b[0m\u001b[1m\u001b[34mscxpand.core.prediction\u001b[0m]\u001b[0m\n",
      "\u001b[2m2025-09-13 18:44:53\u001b[0m [\u001b[32m\u001b[1minfo     \u001b[0m] \u001b[1mEvaluating predictions...     \u001b[0m [\u001b[0m\u001b[1m\u001b[34mscxpand.core.prediction\u001b[0m]\u001b[0m\n",
      "\u001b[2m2025-09-13 18:44:53\u001b[0m [\u001b[32m\u001b[1minfo     \u001b[0m] \u001b[1mCannot evaluate metrics: missing required columns ['expansion']\u001b[0m [\u001b[0m\u001b[1m\u001b[34mscxpand.core.evaluation\u001b[0m]\u001b[0m\n",
      "\u001b[2m2025-09-13 18:44:53\u001b[0m [\u001b[32m\u001b[1minfo     \u001b[0m] \u001b[1mPredictions saved to /Users/rona/my_repos/scXpand/notebooks/.scxpand_cache/5be9d6a5c323e8814ceae709733c7003-1.unzip/logistic/predictions/logistic_predictions.csv\u001b[0m [\u001b[0m\u001b[1m\u001b[34mscxpand.util.io\u001b[0m]\u001b[0m\n",
      "\u001b[2m2025-09-13 18:44:53\u001b[0m [\u001b[32m\u001b[1minfo     \u001b[0m] \u001b[1mPrediction pipeline completed successfully\u001b[0m [\u001b[0m\u001b[1m\u001b[34mscxpand.core.prediction\u001b[0m]\u001b[0m\n",
      "\u001b[2m2025-09-13 18:44:53\u001b[0m [\u001b[32m\u001b[1minfo     \u001b[0m] \u001b[1mInference completed successfully\u001b[0m [\u001b[0m\u001b[1m\u001b[34mscxpand.pretrained.inference_api\u001b[0m]\u001b[0m\n",
      "Inference completed successfully!\n",
      "Example predictions (probabilities): [0.76589786 0.54469557 0.1456853  0.78571885 0.60704432]\n",
      "Prediction shape: (26597,)\n"
     ]
    }
   ],
   "source": [
    "# Run inference on the demo dataset\n",
    "\n",
    "from scxpand import run_inference\n",
    "\n",
    "\n",
    "print(f\"Running inference with {model_name} model...\")\n",
    "\n",
    "results = run_inference(\n",
    "    adata=adata_demo,\n",
    "    model_name=model_name,\n",
    "    batch_size=batch_size,\n",
    "    num_workers=num_workers,\n",
    "    device=device,\n",
    ")\n",
    "y_pred_prob = results.predictions\n",
    "\n",
    "print(\"Inference completed successfully!\")\n",
    "print(f\"Example predictions (probabilities): {y_pred_prob[:5]}\")\n",
    "print(f\"Prediction shape: {y_pred_prob.shape}\")"
   ]
  },
  {
   "cell_type": "markdown",
   "metadata": {},
   "source": [
    "  ---\n",
    "\n",
    "\n",
    "\n",
    "  ## Robustness Testing"
   ]
  },
  {
   "cell_type": "markdown",
   "metadata": {},
   "source": [
    "  ### Gene Order Independence Test\n",
    "\n",
    "\n",
    "\n",
    "\n",
    "\n",
    "\n",
    "\n",
    "  The scXpand model is designed to be robust to gene ordering. Let's verify this\n",
    "\n",
    "\n",
    "\n",
    "  by shuffling the genes and confirming identical predictions."
   ]
  },
  {
   "cell_type": "code",
   "execution_count": 24,
   "metadata": {},
   "outputs": [
    {
     "name": "stdout",
     "output_type": "stream",
     "text": [
      "Testing gene-order independence...\n",
      "\u001b[2m2025-09-13 18:44:53\u001b[0m [\u001b[32m\u001b[1minfo     \u001b[0m] \u001b[1mUsing registry model: pan_cancer_logistic\u001b[0m [\u001b[0m\u001b[1m\u001b[34mscxpand.core.inference\u001b[0m]\u001b[0m\n",
      "\u001b[2m2025-09-13 18:44:53\u001b[0m [\u001b[32m\u001b[1minfo     \u001b[0m] \u001b[1mUsing registry model: pan_cancer_logistic\u001b[0m [\u001b[0m\u001b[1m\u001b[34mscxpand.pretrained.inference_api\u001b[0m]\u001b[0m\n",
      "\u001b[2m2025-09-13 18:44:53\u001b[0m [\u001b[32m\u001b[1minfo     \u001b[0m] \u001b[1mModel version: 1.0.0          \u001b[0m [\u001b[0m\u001b[1m\u001b[34mscxpand.pretrained.inference_api\u001b[0m]\u001b[0m\n",
      "\u001b[2m2025-09-13 18:44:53\u001b[0m [\u001b[32m\u001b[1minfo     \u001b[0m] \u001b[1mModel type will be auto-detected from model_type.txt\u001b[0m [\u001b[0m\u001b[1m\u001b[34mscxpand.pretrained.inference_api\u001b[0m]\u001b[0m\n",
      "\u001b[2m2025-09-13 18:44:53\u001b[0m [\u001b[32m\u001b[1minfo     \u001b[0m] \u001b[1mUsing cache directory: /Users/rona/my_repos/scXpand/notebooks/.scxpand_cache\u001b[0m [\u001b[0m\u001b[1m\u001b[34mscxpand.pretrained.download_manager\u001b[0m]\u001b[0m\n",
      "\u001b[2m2025-09-13 18:44:53\u001b[0m [\u001b[32m\u001b[1minfo     \u001b[0m] \u001b[1mDownloading registry model 'pan_cancer_logistic' from: https://figshare.com/ndownloader/articles/30067666/versions/1?folder_path=logistic\u001b[0m [\u001b[0m\u001b[1m\u001b[34mscxpand.pretrained.download_manager\u001b[0m]\u001b[0m\n"
     ]
    },
    {
     "name": "stderr",
     "output_type": "stream",
     "text": [
      "Unzipping contents of '/Users/rona/my_repos/scXpand/notebooks/.scxpand_cache/5be9d6a5c323e8814ceae709733c7003-1' to '/Users/rona/my_repos/scXpand/notebooks/.scxpand_cache/5be9d6a5c323e8814ceae709733c7003-1.unzip'\n"
     ]
    },
    {
     "name": "stdout",
     "output_type": "stream",
     "text": [
      "\u001b[2m2025-09-13 18:44:53\u001b[0m [\u001b[32m\u001b[1minfo     \u001b[0m] \u001b[1mNormalizing filename: 57702358_model_type.txt -> model_type.txt\u001b[0m [\u001b[0m\u001b[1m\u001b[34mscxpand.pretrained.download_manager\u001b[0m]\u001b[0m\n",
      "\u001b[2m2025-09-13 18:44:53\u001b[0m [\u001b[32m\u001b[1minfo     \u001b[0m] \u001b[1mNormalizing filename: 57702361_parameters.json -> parameters.json\u001b[0m [\u001b[0m\u001b[1m\u001b[34mscxpand.pretrained.download_manager\u001b[0m]\u001b[0m\n",
      "\u001b[2m2025-09-13 18:44:53\u001b[0m [\u001b[32m\u001b[1minfo     \u001b[0m] \u001b[1mNormalizing filename: 57702349_data_format.json -> data_format.json\u001b[0m [\u001b[0m\u001b[1m\u001b[34mscxpand.pretrained.download_manager\u001b[0m]\u001b[0m\n",
      "\u001b[2m2025-09-13 18:44:53\u001b[0m [\u001b[32m\u001b[1minfo     \u001b[0m] \u001b[1mNormalizing filename: 57702352_data_format.npz -> data_format.npz\u001b[0m [\u001b[0m\u001b[1m\u001b[34mscxpand.pretrained.download_manager\u001b[0m]\u001b[0m\n",
      "\u001b[2m2025-09-13 18:44:53\u001b[0m [\u001b[32m\u001b[1minfo     \u001b[0m] \u001b[1mNormalizing filename: 57702355_model.joblib -> model.joblib\u001b[0m [\u001b[0m\u001b[1m\u001b[34mscxpand.pretrained.download_manager\u001b[0m]\u001b[0m\n",
      "\u001b[2m2025-09-13 18:44:53\u001b[0m [\u001b[32m\u001b[1minfo     \u001b[0m] \u001b[1mModel successfully downloaded and cached at: /Users/rona/my_repos/scXpand/notebooks/.scxpand_cache/5be9d6a5c323e8814ceae709733c7003-1.unzip/logistic\u001b[0m [\u001b[0m\u001b[1m\u001b[34mscxpand.pretrained.download_manager\u001b[0m]\u001b[0m\n",
      "\u001b[2m2025-09-13 18:44:53\u001b[0m [\u001b[32m\u001b[1minfo     \u001b[0m] \u001b[1mRunning inference with batch size: 2048\u001b[0m [\u001b[0m\u001b[1m\u001b[34mscxpand.pretrained.inference_api\u001b[0m]\u001b[0m\n",
      "\u001b[2m2025-09-13 18:44:53\u001b[0m [\u001b[32m\u001b[1minfo     \u001b[0m] \u001b[1mLoaded model type: logistic   \u001b[0m [\u001b[0m\u001b[1m\u001b[34mscxpand.util.model_type\u001b[0m]\u001b[0m\n",
      "\u001b[2m2025-09-13 18:44:53\u001b[0m [\u001b[32m\u001b[1minfo     \u001b[0m] \u001b[1mLoaded model type: logistic   \u001b[0m [\u001b[0m\u001b[1m\u001b[34mscxpand.core.prediction\u001b[0m]\u001b[0m\n",
      "\u001b[2m2025-09-13 18:44:53\u001b[0m [\u001b[32m\u001b[1minfo     \u001b[0m] \u001b[1mStarting prediction pipeline for logistic\u001b[0m [\u001b[0m\u001b[1m\u001b[34mscxpand.core.prediction\u001b[0m]\u001b[0m\n",
      "\u001b[2m2025-09-13 18:44:53\u001b[0m [\u001b[32m\u001b[1minfo     \u001b[0m] \u001b[1mModel path: /Users/rona/my_repos/scXpand/notebooks/.scxpand_cache/5be9d6a5c323e8814ceae709733c7003-1.unzip/logistic\u001b[0m [\u001b[0m\u001b[1m\u001b[34mscxpand.core.prediction\u001b[0m]\u001b[0m\n",
      "\u001b[2m2025-09-13 18:44:53\u001b[0m [\u001b[32m\u001b[1minfo     \u001b[0m] \u001b[1mSave path: /Users/rona/my_repos/scXpand/notebooks/.scxpand_cache/5be9d6a5c323e8814ceae709733c7003-1.unzip/logistic/predictions\u001b[0m [\u001b[0m\u001b[1m\u001b[34mscxpand.core.prediction\u001b[0m]\u001b[0m\n",
      "\u001b[2m2025-09-13 18:44:53\u001b[0m [\u001b[32m\u001b[1minfo     \u001b[0m] \u001b[1mLoading data format from /Users/rona/my_repos/scXpand/notebooks/.scxpand_cache/5be9d6a5c323e8814ceae709733c7003-1.unzip/logistic/data_format.json\u001b[0m [\u001b[0m\u001b[1m\u001b[34mscxpand.util.inference_utils\u001b[0m]\u001b[0m\n",
      "\u001b[2m2025-09-13 18:44:53\u001b[0m [\u001b[32m\u001b[1minfo     \u001b[0m] \u001b[1mLoading data format from: /Users/rona/my_repos/scXpand/notebooks/.scxpand_cache/5be9d6a5c323e8814ceae709733c7003-1.unzip/logistic/data_format.json\u001b[0m [\u001b[0m\u001b[1m\u001b[34mscxpand.data_util.data_format\u001b[0m]\u001b[0m\n",
      "\u001b[2m2025-09-13 18:44:53\u001b[0m [\u001b[32m\u001b[1minfo     \u001b[0m] \u001b[1mLoaded normalization statistics: mu array (11950,), sigma array (11950,)\u001b[0m [\u001b[0m\u001b[1m\u001b[34mscxpand.data_util.data_format\u001b[0m]\u001b[0m\n",
      "\u001b[2m2025-09-13 18:44:53\u001b[0m [\u001b[32m\u001b[1minfo     \u001b[0m] \u001b[1mLoading logistic model from /Users/rona/my_repos/scXpand/notebooks/.scxpand_cache/5be9d6a5c323e8814ceae709733c7003-1.unzip/logistic\u001b[0m [\u001b[0m\u001b[1m\u001b[34mscxpand.util.inference_utils\u001b[0m]\u001b[0m\n",
      "\u001b[2m2025-09-13 18:44:53\u001b[0m [\u001b[32m\u001b[1minfo     \u001b[0m] \u001b[1mLoading scikit-learn model from: /Users/rona/my_repos/scXpand/notebooks/.scxpand_cache/5be9d6a5c323e8814ceae709733c7003-1.unzip/logistic\u001b[0m [\u001b[0m\u001b[1m\u001b[34mscxpand.linear.sklearn_utils\u001b[0m]\u001b[0m\n",
      "\u001b[2m2025-09-13 18:44:53\u001b[0m [\u001b[32m\u001b[1minfo     \u001b[0m] \u001b[1mScikit-learn model loaded successfully.\u001b[0m [\u001b[0m\u001b[1m\u001b[34mscxpand.linear.sklearn_utils\u001b[0m]\u001b[0m\n",
      "\u001b[2m2025-09-13 18:44:53\u001b[0m [\u001b[32m\u001b[1minfo     \u001b[0m] \u001b[1mInference environment ready: logistic model on mps\u001b[0m [\u001b[0m\u001b[1m\u001b[34mscxpand.util.inference_utils\u001b[0m]\u001b[0m\n",
      "\u001b[2m2025-09-13 18:44:53\u001b[0m [\u001b[32m\u001b[1minfo     \u001b[0m] \u001b[1mRunning model inference...    \u001b[0m [\u001b[0m\u001b[1m\u001b[34mscxpand.core.prediction\u001b[0m]\u001b[0m\n",
      "\u001b[2m2025-09-13 18:44:53\u001b[0m [\u001b[32m\u001b[1minfo     \u001b[0m] \u001b[1mRunning logistic inference    \u001b[0m [\u001b[0m\u001b[1m\u001b[34mscxpand.util.inference_utils\u001b[0m]\u001b[0m\n",
      "\u001b[2m2025-09-13 18:44:53\u001b[0m [\u001b[32m\u001b[1minfo     \u001b[0m] \u001b[1mData transformation initialized: 11950 overlapping genes, 0 missing genes, 0 extra genes\u001b[0m [\u001b[0m\u001b[1m\u001b[34mscxpand.data_util.dataloaders\u001b[0m]\u001b[0m\n",
      "\u001b[2m2025-09-13 18:44:53\u001b[0m [\u001b[32m\u001b[1minfo     \u001b[0m] \u001b[1mCreated eval data loader with batch size: 2048, num_workers: 4\u001b[0m [\u001b[0m\u001b[1m\u001b[34mscxpand.data_util.dataloaders\u001b[0m]\u001b[0m\n"
     ]
    },
    {
     "name": "stderr",
     "output_type": "stream",
     "text": [
      "/Users/rona/my_repos/scXpand/.venv/lib/python3.13/site-packages/sklearn/base.py:442: InconsistentVersionWarning: Trying to unpickle estimator SGDClassifier from version 1.7.1 when using version 1.7.2. This might lead to breaking code or invalid results. Use at your own risk. For more info please refer to:\n",
      "https://scikit-learn.org/stable/model_persistence.html#security-maintainability-limitations\n",
      "  warnings.warn(\n"
     ]
    },
    {
     "name": "stdout",
     "output_type": "stream",
     "text": [
      "\u001b[2m2025-09-13 18:45:03\u001b[0m [\u001b[32m\u001b[1minfo     \u001b[0m] \u001b[1mInference complete. Predictions shape: (26597,)\u001b[0m [\u001b[0m\u001b[1m\u001b[34mscxpand.linear.sklearn_utils\u001b[0m]\u001b[0m\n",
      "\u001b[2m2025-09-13 18:45:04\u001b[0m [\u001b[32m\u001b[1minfo     \u001b[0m] \u001b[1mInference completed. Generated 26597 predictions.\u001b[0m [\u001b[0m\u001b[1m\u001b[34mscxpand.core.prediction\u001b[0m]\u001b[0m\n",
      "\u001b[2m2025-09-13 18:45:04\u001b[0m [\u001b[32m\u001b[1minfo     \u001b[0m] \u001b[1mEvaluating predictions...     \u001b[0m [\u001b[0m\u001b[1m\u001b[34mscxpand.core.prediction\u001b[0m]\u001b[0m\n",
      "\u001b[2m2025-09-13 18:45:04\u001b[0m [\u001b[32m\u001b[1minfo     \u001b[0m] \u001b[1mCannot evaluate metrics: missing required columns ['expansion']\u001b[0m [\u001b[0m\u001b[1m\u001b[34mscxpand.core.evaluation\u001b[0m]\u001b[0m\n",
      "\u001b[2m2025-09-13 18:45:04\u001b[0m [\u001b[32m\u001b[1minfo     \u001b[0m] \u001b[1mPredictions saved to /Users/rona/my_repos/scXpand/notebooks/.scxpand_cache/5be9d6a5c323e8814ceae709733c7003-1.unzip/logistic/predictions/logistic_predictions.csv\u001b[0m [\u001b[0m\u001b[1m\u001b[34mscxpand.util.io\u001b[0m]\u001b[0m\n",
      "\u001b[2m2025-09-13 18:45:04\u001b[0m [\u001b[32m\u001b[1minfo     \u001b[0m] \u001b[1mPrediction pipeline completed successfully\u001b[0m [\u001b[0m\u001b[1m\u001b[34mscxpand.core.prediction\u001b[0m]\u001b[0m\n",
      "\u001b[2m2025-09-13 18:45:04\u001b[0m [\u001b[32m\u001b[1minfo     \u001b[0m] \u001b[1mInference completed successfully\u001b[0m [\u001b[0m\u001b[1m\u001b[34mscxpand.pretrained.inference_api\u001b[0m]\u001b[0m\n",
      "Inference with shuffled genes completed!\n",
      "Example predictions (probabilities): [0.76589786 0.54469557 0.1456853  0.78571885 0.60704432]\n",
      "Predictions identical with shuffled genes: True\n"
     ]
    }
   ],
   "source": [
    "# Shuffle genes to demonstrate gene-order independence\n",
    "print(\"Testing gene-order independence...\")\n",
    "shuffled_var = adata_demo.var.sample(frac=1, random_state=42)\n",
    "\n",
    "results = run_inference(\n",
    "    model_name=model_name,\n",
    "    adata=adata_demo[:, shuffled_var.index],\n",
    "    device=device,\n",
    "    batch_size=batch_size,\n",
    "    num_workers=num_workers,\n",
    ")\n",
    "y_pred_prob_shuffled = results.predictions\n",
    "\n",
    "print(\"Inference with shuffled genes completed!\")\n",
    "print(f\"Example predictions (probabilities): {y_pred_prob_shuffled[:5]}\")\n",
    "\n",
    "# Verify predictions are identical (gene order doesn't matter)\n",
    "predictions_match = np.allclose(y_pred_prob, y_pred_prob_shuffled)\n",
    "print(f\"Predictions identical with shuffled genes: {predictions_match}\")"
   ]
  },
  {
   "cell_type": "markdown",
   "metadata": {},
   "source": [
    "  ### Missing Gene Handling Test\n",
    "\n",
    "\n",
    "\n",
    "\n",
    "\n",
    "\n",
    "\n",
    "  The model automatically handles missing genes by setting their expression to zero,\n",
    "\n",
    "\n",
    "\n",
    "  mimicking sequencing dropouts. Let's test this by removing some genes."
   ]
  },
  {
   "cell_type": "code",
   "execution_count": 25,
   "metadata": {},
   "outputs": [
    {
     "name": "stdout",
     "output_type": "stream",
     "text": [
      "Testing missing gene handling...\n",
      "Removed 50 genes: 11900 genes remaining\n",
      "\u001b[2m2025-09-13 18:45:04\u001b[0m [\u001b[32m\u001b[1minfo     \u001b[0m] \u001b[1mUsing registry model: pan_cancer_logistic\u001b[0m [\u001b[0m\u001b[1m\u001b[34mscxpand.core.inference\u001b[0m]\u001b[0m\n",
      "\u001b[2m2025-09-13 18:45:04\u001b[0m [\u001b[32m\u001b[1minfo     \u001b[0m] \u001b[1mUsing registry model: pan_cancer_logistic\u001b[0m [\u001b[0m\u001b[1m\u001b[34mscxpand.pretrained.inference_api\u001b[0m]\u001b[0m\n",
      "\u001b[2m2025-09-13 18:45:04\u001b[0m [\u001b[32m\u001b[1minfo     \u001b[0m] \u001b[1mModel version: 1.0.0          \u001b[0m [\u001b[0m\u001b[1m\u001b[34mscxpand.pretrained.inference_api\u001b[0m]\u001b[0m\n",
      "\u001b[2m2025-09-13 18:45:04\u001b[0m [\u001b[32m\u001b[1minfo     \u001b[0m] \u001b[1mModel type will be auto-detected from model_type.txt\u001b[0m [\u001b[0m\u001b[1m\u001b[34mscxpand.pretrained.inference_api\u001b[0m]\u001b[0m\n",
      "\u001b[2m2025-09-13 18:45:04\u001b[0m [\u001b[32m\u001b[1minfo     \u001b[0m] \u001b[1mUsing cache directory: /Users/rona/my_repos/scXpand/notebooks/.scxpand_cache\u001b[0m [\u001b[0m\u001b[1m\u001b[34mscxpand.pretrained.download_manager\u001b[0m]\u001b[0m\n",
      "\u001b[2m2025-09-13 18:45:04\u001b[0m [\u001b[32m\u001b[1minfo     \u001b[0m] \u001b[1mDownloading registry model 'pan_cancer_logistic' from: https://figshare.com/ndownloader/articles/30067666/versions/1?folder_path=logistic\u001b[0m [\u001b[0m\u001b[1m\u001b[34mscxpand.pretrained.download_manager\u001b[0m]\u001b[0m\n"
     ]
    },
    {
     "name": "stderr",
     "output_type": "stream",
     "text": [
      "Unzipping contents of '/Users/rona/my_repos/scXpand/notebooks/.scxpand_cache/5be9d6a5c323e8814ceae709733c7003-1' to '/Users/rona/my_repos/scXpand/notebooks/.scxpand_cache/5be9d6a5c323e8814ceae709733c7003-1.unzip'\n"
     ]
    },
    {
     "name": "stdout",
     "output_type": "stream",
     "text": [
      "\u001b[2m2025-09-13 18:45:04\u001b[0m [\u001b[32m\u001b[1minfo     \u001b[0m] \u001b[1mNormalizing filename: 57702358_model_type.txt -> model_type.txt\u001b[0m [\u001b[0m\u001b[1m\u001b[34mscxpand.pretrained.download_manager\u001b[0m]\u001b[0m\n",
      "\u001b[2m2025-09-13 18:45:04\u001b[0m [\u001b[32m\u001b[1minfo     \u001b[0m] \u001b[1mNormalizing filename: 57702361_parameters.json -> parameters.json\u001b[0m [\u001b[0m\u001b[1m\u001b[34mscxpand.pretrained.download_manager\u001b[0m]\u001b[0m\n",
      "\u001b[2m2025-09-13 18:45:04\u001b[0m [\u001b[32m\u001b[1minfo     \u001b[0m] \u001b[1mNormalizing filename: 57702349_data_format.json -> data_format.json\u001b[0m [\u001b[0m\u001b[1m\u001b[34mscxpand.pretrained.download_manager\u001b[0m]\u001b[0m\n",
      "\u001b[2m2025-09-13 18:45:04\u001b[0m [\u001b[32m\u001b[1minfo     \u001b[0m] \u001b[1mNormalizing filename: 57702352_data_format.npz -> data_format.npz\u001b[0m [\u001b[0m\u001b[1m\u001b[34mscxpand.pretrained.download_manager\u001b[0m]\u001b[0m\n",
      "\u001b[2m2025-09-13 18:45:04\u001b[0m [\u001b[32m\u001b[1minfo     \u001b[0m] \u001b[1mNormalizing filename: 57702355_model.joblib -> model.joblib\u001b[0m [\u001b[0m\u001b[1m\u001b[34mscxpand.pretrained.download_manager\u001b[0m]\u001b[0m\n",
      "\u001b[2m2025-09-13 18:45:04\u001b[0m [\u001b[32m\u001b[1minfo     \u001b[0m] \u001b[1mModel successfully downloaded and cached at: /Users/rona/my_repos/scXpand/notebooks/.scxpand_cache/5be9d6a5c323e8814ceae709733c7003-1.unzip/logistic\u001b[0m [\u001b[0m\u001b[1m\u001b[34mscxpand.pretrained.download_manager\u001b[0m]\u001b[0m\n",
      "\u001b[2m2025-09-13 18:45:04\u001b[0m [\u001b[32m\u001b[1minfo     \u001b[0m] \u001b[1mRunning inference with batch size: 2048\u001b[0m [\u001b[0m\u001b[1m\u001b[34mscxpand.pretrained.inference_api\u001b[0m]\u001b[0m\n",
      "\u001b[2m2025-09-13 18:45:04\u001b[0m [\u001b[32m\u001b[1minfo     \u001b[0m] \u001b[1mLoaded model type: logistic   \u001b[0m [\u001b[0m\u001b[1m\u001b[34mscxpand.util.model_type\u001b[0m]\u001b[0m\n",
      "\u001b[2m2025-09-13 18:45:04\u001b[0m [\u001b[32m\u001b[1minfo     \u001b[0m] \u001b[1mLoaded model type: logistic   \u001b[0m [\u001b[0m\u001b[1m\u001b[34mscxpand.core.prediction\u001b[0m]\u001b[0m\n",
      "\u001b[2m2025-09-13 18:45:04\u001b[0m [\u001b[32m\u001b[1minfo     \u001b[0m] \u001b[1mStarting prediction pipeline for logistic\u001b[0m [\u001b[0m\u001b[1m\u001b[34mscxpand.core.prediction\u001b[0m]\u001b[0m\n",
      "\u001b[2m2025-09-13 18:45:04\u001b[0m [\u001b[32m\u001b[1minfo     \u001b[0m] \u001b[1mModel path: /Users/rona/my_repos/scXpand/notebooks/.scxpand_cache/5be9d6a5c323e8814ceae709733c7003-1.unzip/logistic\u001b[0m [\u001b[0m\u001b[1m\u001b[34mscxpand.core.prediction\u001b[0m]\u001b[0m\n",
      "\u001b[2m2025-09-13 18:45:04\u001b[0m [\u001b[32m\u001b[1minfo     \u001b[0m] \u001b[1mSave path: /Users/rona/my_repos/scXpand/notebooks/.scxpand_cache/5be9d6a5c323e8814ceae709733c7003-1.unzip/logistic/predictions\u001b[0m [\u001b[0m\u001b[1m\u001b[34mscxpand.core.prediction\u001b[0m]\u001b[0m\n",
      "\u001b[2m2025-09-13 18:45:04\u001b[0m [\u001b[32m\u001b[1minfo     \u001b[0m] \u001b[1mLoading data format from /Users/rona/my_repos/scXpand/notebooks/.scxpand_cache/5be9d6a5c323e8814ceae709733c7003-1.unzip/logistic/data_format.json\u001b[0m [\u001b[0m\u001b[1m\u001b[34mscxpand.util.inference_utils\u001b[0m]\u001b[0m\n",
      "\u001b[2m2025-09-13 18:45:04\u001b[0m [\u001b[32m\u001b[1minfo     \u001b[0m] \u001b[1mLoading data format from: /Users/rona/my_repos/scXpand/notebooks/.scxpand_cache/5be9d6a5c323e8814ceae709733c7003-1.unzip/logistic/data_format.json\u001b[0m [\u001b[0m\u001b[1m\u001b[34mscxpand.data_util.data_format\u001b[0m]\u001b[0m\n",
      "\u001b[2m2025-09-13 18:45:04\u001b[0m [\u001b[32m\u001b[1minfo     \u001b[0m] \u001b[1mLoaded normalization statistics: mu array (11950,), sigma array (11950,)\u001b[0m [\u001b[0m\u001b[1m\u001b[34mscxpand.data_util.data_format\u001b[0m]\u001b[0m\n",
      "\u001b[2m2025-09-13 18:45:04\u001b[0m [\u001b[32m\u001b[1minfo     \u001b[0m] \u001b[1mLoading logistic model from /Users/rona/my_repos/scXpand/notebooks/.scxpand_cache/5be9d6a5c323e8814ceae709733c7003-1.unzip/logistic\u001b[0m [\u001b[0m\u001b[1m\u001b[34mscxpand.util.inference_utils\u001b[0m]\u001b[0m\n",
      "\u001b[2m2025-09-13 18:45:04\u001b[0m [\u001b[32m\u001b[1minfo     \u001b[0m] \u001b[1mLoading scikit-learn model from: /Users/rona/my_repos/scXpand/notebooks/.scxpand_cache/5be9d6a5c323e8814ceae709733c7003-1.unzip/logistic\u001b[0m [\u001b[0m\u001b[1m\u001b[34mscxpand.linear.sklearn_utils\u001b[0m]\u001b[0m\n",
      "\u001b[2m2025-09-13 18:45:04\u001b[0m [\u001b[32m\u001b[1minfo     \u001b[0m] \u001b[1mScikit-learn model loaded successfully.\u001b[0m [\u001b[0m\u001b[1m\u001b[34mscxpand.linear.sklearn_utils\u001b[0m]\u001b[0m\n",
      "\u001b[2m2025-09-13 18:45:04\u001b[0m [\u001b[32m\u001b[1minfo     \u001b[0m] \u001b[1mInference environment ready: logistic model on mps\u001b[0m [\u001b[0m\u001b[1m\u001b[34mscxpand.util.inference_utils\u001b[0m]\u001b[0m\n",
      "\u001b[2m2025-09-13 18:45:04\u001b[0m [\u001b[32m\u001b[1minfo     \u001b[0m] \u001b[1mRunning model inference...    \u001b[0m [\u001b[0m\u001b[1m\u001b[34mscxpand.core.prediction\u001b[0m]\u001b[0m\n",
      "\u001b[2m2025-09-13 18:45:04\u001b[0m [\u001b[32m\u001b[1minfo     \u001b[0m] \u001b[1mRunning logistic inference    \u001b[0m [\u001b[0m\u001b[1m\u001b[34mscxpand.util.inference_utils\u001b[0m]\u001b[0m\n",
      "\u001b[2m2025-09-13 18:45:04\u001b[0m [\u001b[32m\u001b[1minfo     \u001b[0m] \u001b[1mData transformation initialized: 11900 overlapping genes, 50 missing genes, 0 extra genes\u001b[0m [\u001b[0m\u001b[1m\u001b[34mscxpand.data_util.dataloaders\u001b[0m]\u001b[0m\n",
      "\u001b[2m2025-09-13 18:45:04\u001b[0m [\u001b[32m\u001b[1minfo     \u001b[0m] \u001b[1mCreated eval data loader with batch size: 2048, num_workers: 4\u001b[0m [\u001b[0m\u001b[1m\u001b[34mscxpand.data_util.dataloaders\u001b[0m]\u001b[0m\n"
     ]
    },
    {
     "name": "stderr",
     "output_type": "stream",
     "text": [
      "/Users/rona/my_repos/scXpand/.venv/lib/python3.13/site-packages/sklearn/base.py:442: InconsistentVersionWarning: Trying to unpickle estimator SGDClassifier from version 1.7.1 when using version 1.7.2. This might lead to breaking code or invalid results. Use at your own risk. For more info please refer to:\n",
      "https://scikit-learn.org/stable/model_persistence.html#security-maintainability-limitations\n",
      "  warnings.warn(\n"
     ]
    },
    {
     "name": "stdout",
     "output_type": "stream",
     "text": [
      "\u001b[2m2025-09-13 18:45:15\u001b[0m [\u001b[32m\u001b[1minfo     \u001b[0m] \u001b[1mInference complete. Predictions shape: (26597,)\u001b[0m [\u001b[0m\u001b[1m\u001b[34mscxpand.linear.sklearn_utils\u001b[0m]\u001b[0m\n",
      "\u001b[2m2025-09-13 18:45:15\u001b[0m [\u001b[32m\u001b[1minfo     \u001b[0m] \u001b[1mInference completed. Generated 26597 predictions.\u001b[0m [\u001b[0m\u001b[1m\u001b[34mscxpand.core.prediction\u001b[0m]\u001b[0m\n",
      "\u001b[2m2025-09-13 18:45:15\u001b[0m [\u001b[32m\u001b[1minfo     \u001b[0m] \u001b[1mEvaluating predictions...     \u001b[0m [\u001b[0m\u001b[1m\u001b[34mscxpand.core.prediction\u001b[0m]\u001b[0m\n",
      "\u001b[2m2025-09-13 18:45:15\u001b[0m [\u001b[32m\u001b[1minfo     \u001b[0m] \u001b[1mCannot evaluate metrics: missing required columns ['expansion']\u001b[0m [\u001b[0m\u001b[1m\u001b[34mscxpand.core.evaluation\u001b[0m]\u001b[0m\n",
      "\u001b[2m2025-09-13 18:45:16\u001b[0m [\u001b[32m\u001b[1minfo     \u001b[0m] \u001b[1mPredictions saved to /Users/rona/my_repos/scXpand/notebooks/.scxpand_cache/5be9d6a5c323e8814ceae709733c7003-1.unzip/logistic/predictions/logistic_predictions.csv\u001b[0m [\u001b[0m\u001b[1m\u001b[34mscxpand.util.io\u001b[0m]\u001b[0m\n",
      "\u001b[2m2025-09-13 18:45:16\u001b[0m [\u001b[32m\u001b[1minfo     \u001b[0m] \u001b[1mPrediction pipeline completed successfully\u001b[0m [\u001b[0m\u001b[1m\u001b[34mscxpand.core.prediction\u001b[0m]\u001b[0m\n",
      "\u001b[2m2025-09-13 18:45:16\u001b[0m [\u001b[32m\u001b[1minfo     \u001b[0m] \u001b[1mInference completed successfully\u001b[0m [\u001b[0m\u001b[1m\u001b[34mscxpand.pretrained.inference_api\u001b[0m]\u001b[0m\n",
      "Inference with missing genes completed!\n",
      "Example predictions (probabilities): [0.76434724 0.53746603 0.14428969 0.78419821 0.60384738]\n",
      "\n",
      "Prediction comparison:\n",
      "Original predictions mean: 0.5634\n",
      "Missing genes predictions mean: 0.5649\n",
      "Model successfully handled missing genes!\n"
     ]
    }
   ],
   "source": [
    "# Remove last 50 genes to demonstrate missing gene handling\n",
    "print(\"Testing missing gene handling...\")\n",
    "n_genes_to_remove = 50\n",
    "adata_subset = adata_demo[:, :-n_genes_to_remove]\n",
    "print(f\"Removed {n_genes_to_remove} genes: {adata_subset.n_vars} genes remaining\")\n",
    "\n",
    "results = run_inference(\n",
    "    model_name=model_name,\n",
    "    adata=adata_subset,\n",
    "    device=device,\n",
    "    batch_size=batch_size,\n",
    "    num_workers=num_workers,\n",
    ")\n",
    "y_pred_prob_missing = results.predictions\n",
    "\n",
    "print(\"Inference with missing genes completed!\")\n",
    "print(f\"Example predictions (probabilities): {y_pred_prob_missing[:5]}\")\n",
    "\n",
    "# Compare predictions with and without missing genes\n",
    "print(\"\\nPrediction comparison:\")\n",
    "print(f\"Original predictions mean: {y_pred_prob.mean():.4f}\")\n",
    "print(f\"Missing genes predictions mean: {y_pred_prob_missing.mean():.4f}\")\n",
    "print(\"Model successfully handled missing genes!\")"
   ]
  },
  {
   "cell_type": "markdown",
   "metadata": {},
   "source": [
    "  ---\n",
    "\n",
    "\n",
    "\n",
    "  ## Summary\n",
    "\n",
    "\n",
    "\n",
    "\n",
    "\n",
    "\n",
    "\n",
    "  This tutorial demonstrated:\n",
    "\n",
    "\n",
    "\n",
    "\n",
    "\n",
    "\n",
    "\n",
    "  1. **Data Loading**: How to load and combine multiple samples\n",
    "\n",
    "\n",
    "\n",
    "  2. **Quality Control**: Mitochondrial gene filtering and doublet detection\n",
    "\n",
    "\n",
    "\n",
    "  3. **Data Preparation**: T cell filtering and gene ID conversion\n",
    "\n",
    "\n",
    "\n",
    "  4. **Model Application**: Running inference with pretrained scXpand models\n",
    "\n",
    "\n",
    "\n",
    "  5. **Robustness Testing**: Gene order independence and missing gene handling\n",
    "\n",
    "\n",
    "\n",
    "\n",
    "\n",
    "\n",
    "\n",
    "  The scXpand model is now ready to predict T cell expansion probabilities on your data!"
   ]
  }
 ],
 "metadata": {
  "kernelspec": {
   "display_name": ".venv",
   "language": "python",
   "name": "python3"
  },
  "language_info": {
   "codemirror_mode": {
    "name": "ipython",
    "version": 3
   },
   "file_extension": ".py",
   "mimetype": "text/x-python",
   "name": "python",
   "nbconvert_exporter": "python",
   "pygments_lexer": "ipython3",
   "version": "3.13.7"
  }
 },
 "nbformat": 4,
 "nbformat_minor": 2
}
